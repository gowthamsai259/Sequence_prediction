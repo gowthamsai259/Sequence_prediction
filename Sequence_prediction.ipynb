{
 "cells": [
  {
   "cell_type": "markdown",
   "id": "18f8a24d",
   "metadata": {},
   "source": [
    "# Sequence prediction with linear regression"
   ]
  },
  {
   "cell_type": "code",
   "execution_count": 1,
   "id": "92fec891",
   "metadata": {},
   "outputs": [
    {
     "name": "stdout",
     "output_type": "stream",
     "text": [
      "1 4 9 16 25 36\n",
      "The next number in the series is: 51.02139037433155\n"
     ]
    }
   ],
   "source": [
    "from sklearn.linear_model import LinearRegression\n",
    "import numpy as np\n",
    "\n",
    "# Define the input sequence as a list\n",
    "input_sequence = list(map(int,input().split()))\n",
    "\n",
    "# Reshape the input sequence into a 2D array with one column\n",
    "X_train = np.array(input_sequence[:-1]).reshape(-1, 1)\n",
    "\n",
    "# Define the target sequence as the last number in the input sequence\n",
    "y_train = np.array(input_sequence[1:])\n",
    "\n",
    "# Create a linear regression model\n",
    "model = LinearRegression()\n",
    "\n",
    "# Train the model on the input and target sequences\n",
    "model.fit(X_train, y_train)\n",
    "\n",
    "# Predict the next number in the series\n",
    "next_number = model.predict([[input_sequence[-1]]])\n",
    "\n",
    "print(\"The next number in the series is:\", next_number[0])"
   ]
  },
  {
   "cell_type": "markdown",
   "id": "80a61b82",
   "metadata": {},
   "source": [
    "### We can clearly see that the predicted value is almost near to the 49, Linear regression is working well for this problem"
   ]
  },
  {
   "cell_type": "markdown",
   "id": "ddcf38ba",
   "metadata": {},
   "source": [
    "# Now lets go with Decision tree algorithm."
   ]
  },
  {
   "cell_type": "code",
   "execution_count": 3,
   "id": "9505bf94",
   "metadata": {},
   "outputs": [
    {
     "name": "stdout",
     "output_type": "stream",
     "text": [
      "0 1 1 2 3 5 8 13\n",
      "The next number in the sequence is: 13.0\n"
     ]
    }
   ],
   "source": [
    "from sklearn.tree import DecisionTreeRegressor\n",
    "import numpy as np\n",
    "\n",
    "# Define the input sequence as a list\n",
    "input_sequence = list(map(int,input().split()))\n",
    "\n",
    "# Reshape the input sequence into a 2D array with one column\n",
    "X_train = np.array(input_sequence[:-1]).reshape(-1, 1)\n",
    "\n",
    "# Define the target sequence as the last number in the input sequence\n",
    "y_train = np.array(input_sequence[1:])\n",
    "\n",
    "# Create a decision tree regressor model\n",
    "model = DecisionTreeRegressor()\n",
    "\n",
    "# Train the model on the input and target sequences\n",
    "model.fit(X_train, y_train)\n",
    "\n",
    "# Predict the next number in the sequence\n",
    "next_number = model.predict([[input_sequence[-1]]])\n",
    "\n",
    "print(\"The next number in the sequence is:\", next_number[0])"
   ]
  },
  {
   "cell_type": "markdown",
   "id": "040148ca",
   "metadata": {},
   "source": [
    "### Its clearly seen that Decision tree is not working for predicting the next number"
   ]
  },
  {
   "cell_type": "markdown",
   "id": "4a0c6e1e",
   "metadata": {},
   "source": [
    "# Randomforest regressor"
   ]
  },
  {
   "cell_type": "code",
   "execution_count": 4,
   "id": "ee6e5f85",
   "metadata": {},
   "outputs": [
    {
     "name": "stdout",
     "output_type": "stream",
     "text": [
      "0 1 1 2 3 5 8 13\n",
      "The next number in the sequence is: 10.46\n"
     ]
    }
   ],
   "source": [
    "from sklearn.ensemble import RandomForestRegressor\n",
    "import numpy as np\n",
    "\n",
    "# Define the input sequence as a list\n",
    "input_sequence = list(map(int,input().split()))\n",
    "\n",
    "# Reshape the input sequence into a 2D array with one column\n",
    "X_train = np.array(input_sequence[:-1]).reshape(-1, 1)\n",
    "\n",
    "# Define the target sequence as the last number in the input sequence\n",
    "y_train = np.array(input_sequence[1:])\n",
    "\n",
    "# Create a random forest regressor model\n",
    "model = RandomForestRegressor()\n",
    "\n",
    "# Train the model on the input and target sequences\n",
    "model.fit(X_train, y_train)\n",
    "\n",
    "# Predict the next number in the sequence\n",
    "next_number = model.predict([[input_sequence[-1]]])\n",
    "\n",
    "print(\"The next number in the sequence is:\", next_number[0])"
   ]
  },
  {
   "cell_type": "markdown",
   "id": "4cc53c4b",
   "metadata": {},
   "source": [
    "### This prediction is not even close to the last number in the sequence\n",
    "\n",
    "# From all the above sequences we can clearly see that linear regression is working well for sequence prediction"
   ]
  }
 ],
 "metadata": {
  "kernelspec": {
   "display_name": "Python 3 (ipykernel)",
   "language": "python",
   "name": "python3"
  },
  "language_info": {
   "codemirror_mode": {
    "name": "ipython",
    "version": 3
   },
   "file_extension": ".py",
   "mimetype": "text/x-python",
   "name": "python",
   "nbconvert_exporter": "python",
   "pygments_lexer": "ipython3",
   "version": "3.7.9"
  }
 },
 "nbformat": 4,
 "nbformat_minor": 5
}
